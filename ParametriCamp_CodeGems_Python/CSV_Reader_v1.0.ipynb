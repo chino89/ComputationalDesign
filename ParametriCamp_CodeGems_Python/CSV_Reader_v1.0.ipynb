{
 "cells": [
  {
   "cell_type": "code",
   "execution_count": 1,
   "metadata": {},
   "outputs": [
    {
     "name": "stdout",
     "output_type": "stream",
     "text": [
      "['Alfalfa', 'Alfred', 'Gerty', 'Android', 'Bumpkin', 'Rubble', 'Noshow', 'Buff', 'Airpump', 'Backus', 'Carnivore', 'Dandy', 'Elephant', 'Franklin', 'George', 'Heffalump'] ['Aloysius', 'University', 'Gramma', 'Electric', 'Fred', 'Betty', 'Cecil', 'Bif', 'Andrew', 'Jim', 'Art', 'Jim', 'Ima', 'Benny', 'Boy', 'Harvey'] ['123-45-6789', '123-12-1234', '567-89-0123', '087-65-4321', '456-78-9012', '234-56-7890', '345-67-8901', '632-79-9939', '223-45-6789', '143-12-1234', '565-89-0123', '087-75-4321', '456-71-9012', '234-56-2890', '345-67-3901', '632-79-9439'] [['40.0', '90.0', '100.0', '83.0'], ['41.0', '97.0', '96.0', '97.0'], ['41.0', '80.0', '60.0', '40.0'], ['42.0', '23.0', '36.0', '45.0'], ['43.0', '78.0', '88.0', '77.0'], ['44.0', '90.0', '80.0', '90.0'], ['45.0', '11.0', '-1.0', '4.0'], ['46.0', '20.0', '30.0', '40.0'], ['49.0', '1.0', '90.0', '100.0'], ['48.0', '1.0', '97.0', '96.0'], ['44.0', '1.0', '80.0', '60.0'], ['47.0', '1.0', '23.0', '36.0'], ['45.0', '1.0', '78.0', '88.0'], ['50.0', '1.0', '90.0', '80.0'], ['40.0', '1.0', '11.0', '-1.0'], ['30.0', '1.0', '20.0', '30.0']] ['49.0', '48.0', '44.0', '47.0', '45.0', '46.0', '43.0', '50.0', '83.0', '97.0', '40.0', '45.0', '77.0', '90.0', '4.0', '40.0'] ['D-', 'D+', 'C', 'B-', 'A-', 'C-', 'F', 'B+', 'A', 'A+', 'D+', 'C+', 'B-', 'B-', 'B', 'C']\n"
     ]
    }
   ],
   "source": [
    "import csv\n",
    "\n",
    "f = open('grades.csv')\n",
    "csv_f = csv.reader(f)\n",
    "\n",
    "\n",
    "LastName = []\n",
    "FirstName = []\n",
    "SSN = []\n",
    "TestScores = []\n",
    "Final = []\n",
    "Grade = []\n",
    "for row in csv_f:\n",
    "    LastName.append(row[0])\n",
    "    FirstName.append(row[1])\n",
    "    SSN.append(row[2])\n",
    "    TestScores.append(row[3:7])\n",
    "    Final.append(row[7])\n",
    "    Grade.append(row[-1])\n",
    "    \n",
    "    \n",
    "    #print(myList)\n",
    "  \n",
    "#LastName[1:]\n",
    "#FirstName[1:]\n",
    "#SSN[1:]\n",
    "#TestScores[1:]\n",
    "#Final[1:]\n",
    "#Grade[1:]\n",
    "\n",
    "print(LastName[1:], FirstName[1:], SSN[1:], TestScores[1:], Final[1:], Grade[1:])"
   ]
  },
  {
   "cell_type": "code",
   "execution_count": 2,
   "metadata": {},
   "outputs": [
    {
     "name": "stdout",
     "output_type": "stream",
     "text": [
      "[['Aloysius', 'Alfalfa', 40.0, 90.0, 100.0, 83.0, 'Final Grade: D-'], ['University', 'Alfred', 41.0, 97.0, 96.0, 97.0, 'Final Grade: D+'], ['Gramma', 'Gerty', 41.0, 80.0, 60.0, 40.0, 'Final Grade: C'], ['Electric', 'Android', 42.0, 23.0, 36.0, 45.0, 'Final Grade: B-'], ['Fred', 'Bumpkin', 43.0, 78.0, 88.0, 77.0, 'Final Grade: A-'], ['Betty', 'Rubble', 44.0, 90.0, 80.0, 90.0, 'Final Grade: C-'], ['Cecil', 'Noshow', 45.0, 11.0, -1.0, 4.0, 'Final Grade: F'], ['Bif', 'Buff', 46.0, 20.0, 30.0, 40.0, 'Final Grade: B+'], ['Andrew', 'Airpump', 49.0, 1.0, 90.0, 100.0, 'Final Grade: A'], ['Jim', 'Backus', 48.0, 1.0, 97.0, 96.0, 'Final Grade: A+'], ['Art', 'Carnivore', 44.0, 1.0, 80.0, 60.0, 'Final Grade: D+'], ['Jim', 'Dandy', 47.0, 1.0, 23.0, 36.0, 'Final Grade: C+'], ['Ima', 'Elephant', 45.0, 1.0, 78.0, 88.0, 'Final Grade: B-'], ['Benny', 'Franklin', 50.0, 1.0, 90.0, 80.0, 'Final Grade: B-'], ['Boy', 'George', 40.0, 1.0, 11.0, -1.0, 'Final Grade: B'], ['Harvey', 'Heffalump', 30.0, 1.0, 20.0, 30.0, 'Final Grade: C']]\n"
     ]
    }
   ],
   "source": [
    "class Student:\n",
    "    rowData: [str]\n",
    "    \n",
    "    def __init__(self, rowData):\n",
    "        LastName = []\n",
    "        FirstName = []\n",
    "        SSN = []\n",
    "        Test1 = []\n",
    "        Test2 = []\n",
    "        Test3 = []\n",
    "        Test4 = []\n",
    "        Final = []\n",
    "        Grade = []\n",
    "        \n",
    "        for row in rowData:\n",
    "            LastName.append(row[0])\n",
    "            FirstName.append(row[1])\n",
    "            SSN.append(row[2])\n",
    "            Test1.append(row[3])\n",
    "            Test2.append(row[4])\n",
    "            Test3.append(row[5])\n",
    "            Test4.append(row[6])\n",
    "            Final.append(row[7])\n",
    "            Grade.append('Final Grade: ' +row[8])\n",
    "        \n",
    "        self.LastName = LastName[1:]\n",
    "        self.FirstName = FirstName[1:]\n",
    "        self.SSN = SSN[1:]\n",
    "        self.Test1 = Test1[1:]\n",
    "        self.Test2 = Test2[1:]\n",
    "        self.Test3 = Test3[1:]\n",
    "        self.Test4 = Test4[1:]\n",
    "        self.Final = Final[1:]\n",
    "        self.Grade = Grade[1:]\n",
    "\n",
    "\n",
    "\n",
    "import csv\n",
    "\n",
    "f = open('grades.csv')\n",
    "csv_f = csv.reader(f)\n",
    "\n",
    "\n",
    "a = Student(csv_f)\n",
    "#print(a.Test1)\n",
    "\n",
    "#TestFl = [a.Test1, a.Test2, a.Test3, a.Test4]\n",
    "#print(TestFl)\n",
    "\n",
    "\n",
    "Test01 = a.Test1\n",
    "Test02 = a.Test2\n",
    "Test03 = a.Test3\n",
    "Test04 = a.Test4\n",
    "\n",
    "#Convert Test values from list of str to float\n",
    "Test01fl = [float(i) for i in Test01]\n",
    "Test02fl = [float(i) for i in Test02]\n",
    "Test03fl = [float(i) for i in Test03]\n",
    "Test04fl = [float(i) for i in Test04]\n",
    "\n",
    "#print(Test01fl, Test02fl, Test03fl, Test04fl)\n",
    "#TestScores = Test01fl, Test02fl, Test03, Test04fl\n",
    "#print(TestScores)\n",
    "\n",
    "#print(a.Grade)\n",
    "\n",
    "\n",
    "\n",
    "\n",
    "TotalStudent = [list(e) for e in zip(a.FirstName, a.LastName, Test01fl, Test02fl, Test03fl, Test04fl, a.Grade)]\n",
    "\n",
    "print(TotalStudent)"
   ]
  },
  {
   "cell_type": "code",
   "execution_count": null,
   "metadata": {},
   "outputs": [],
   "source": []
  }
 ],
 "metadata": {
  "kernelspec": {
   "display_name": "Python 3",
   "language": "python",
   "name": "python3"
  },
  "language_info": {
   "codemirror_mode": {
    "name": "ipython",
    "version": 3
   },
   "file_extension": ".py",
   "mimetype": "text/x-python",
   "name": "python",
   "nbconvert_exporter": "python",
   "pygments_lexer": "ipython3",
   "version": "3.7.6"
  }
 },
 "nbformat": 4,
 "nbformat_minor": 4
}
