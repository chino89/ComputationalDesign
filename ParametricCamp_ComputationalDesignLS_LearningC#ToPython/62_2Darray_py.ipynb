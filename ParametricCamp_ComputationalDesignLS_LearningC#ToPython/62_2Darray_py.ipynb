{
 "cells": [
  {
   "cell_type": "code",
   "execution_count": 6,
   "metadata": {},
   "outputs": [],
   "source": [
    "#Parameters of our building \n",
    "floors = int(7)\n",
    "aptsPerFloor = int(5)"
   ]
  },
  {
   "cell_type": "code",
   "execution_count": 7,
   "metadata": {},
   "outputs": [],
   "source": [
    "#2D array defining apartment names and wether if they have mail or not\n",
    "apartments = str([floors, aptsPerFloor])\n",
    "hasMail = bool([floors, aptsPerFloor])"
   ]
  },
  {
   "cell_type": "code",
   "execution_count": 9,
   "metadata": {},
   "outputs": [],
   "source": [
    "#Initialize values with a nested for loop\n",
    "arr = []\n",
    "\n",
    "for i in range(0, floors):\n",
    "    for j in range(0, aptsPerFloor):\n",
    "        apartments = [i, j]\n",
    "        hasMail = False\n",
    "        \n",
    "        arr.append(apartments)"
   ]
  },
  {
   "cell_type": "code",
   "execution_count": 10,
   "metadata": {},
   "outputs": [
    {
     "name": "stdout",
     "output_type": "stream",
     "text": [
      "[0, 0] False\n",
      "[0, 1] False\n",
      "[0, 2] False\n",
      "[0, 3] False\n",
      "[0, 4] False\n",
      "[1, 0] False\n",
      "[1, 1] False\n",
      "[1, 2] False\n",
      "[1, 3] False\n",
      "[1, 4] False\n",
      "[2, 0] False\n",
      "[2, 1] False\n",
      "[2, 2] False\n",
      "[2, 3] False\n",
      "[2, 4] False\n",
      "[3, 0] False\n",
      "[3, 1] False\n",
      "[3, 2] True\n",
      "[3, 3] False\n",
      "[3, 4] False\n",
      "[4, 0] False\n",
      "[4, 1] False\n",
      "[4, 2] False\n",
      "[4, 3] False\n",
      "[4, 4] False\n",
      "[5, 0] False\n",
      "[5, 1] False\n",
      "[5, 2] False\n",
      "[5, 3] False\n",
      "[5, 4] False\n",
      "[6, 0] True\n",
      "[6, 1] False\n",
      "[6, 2] False\n",
      "[6, 3] False\n",
      "[6, 4] False\n"
     ]
    }
   ],
   "source": [
    "#Some algorithm that tracks mail and updates 'hasMail'\n",
    "for x in arr:\n",
    "    hasMail = False\n",
    "    \n",
    "    #Check mail in all apartments \"if version\"\n",
    "    if x == [3,2]:\n",
    "        hasMail = True\n",
    "    elif x == [6,0]:\n",
    "        hasMail = True\n",
    "    \n",
    "    print(x, hasMail)"
   ]
  },
  {
   "cell_type": "code",
   "execution_count": null,
   "metadata": {},
   "outputs": [],
   "source": []
  }
 ],
 "metadata": {
  "kernelspec": {
   "display_name": "Python 3",
   "language": "python",
   "name": "python3"
  },
  "language_info": {
   "codemirror_mode": {
    "name": "ipython",
    "version": 3
   },
   "file_extension": ".py",
   "mimetype": "text/x-python",
   "name": "python",
   "nbconvert_exporter": "python",
   "pygments_lexer": "ipython3",
   "version": "3.8.5"
  }
 },
 "nbformat": 4,
 "nbformat_minor": 4
}
