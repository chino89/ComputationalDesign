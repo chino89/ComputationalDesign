{
 "cells": [
  {
   "cell_type": "code",
   "execution_count": 7,
   "metadata": {},
   "outputs": [
    {
     "name": "stdout",
     "output_type": "stream",
     "text": [
      "5 Is smaller than 10\n",
      "-5\n",
      "False\n"
     ]
    }
   ],
   "source": [
    "def compare(a,b, *difference, **msg):\n",
    "    if a > b:\n",
    "        msg = str(a) + \" Is greater than \" + str(b)\n",
    "        print(msg)\n",
    "    elif a < b:\n",
    "        msg = str(a) + \" Is smaller than \" + str(b)\n",
    "        print(msg)\n",
    "    else:\n",
    "        msg = str(a) + \" Is equal to \" + str(b)\n",
    "        print(msg)\n",
    "    \n",
    "    difference = a-b\n",
    "    print(difference)\n",
    "    return a > b\n",
    "\n",
    "a = 5\n",
    "b = 10\n",
    "\n",
    "print(compare(a, b))"
   ]
  },
  {
   "cell_type": "code",
   "execution_count": null,
   "metadata": {},
   "outputs": [],
   "source": []
  }
 ],
 "metadata": {
  "kernelspec": {
   "display_name": "Python 3",
   "language": "python",
   "name": "python3"
  },
  "language_info": {
   "codemirror_mode": {
    "name": "ipython",
    "version": 3
   },
   "file_extension": ".py",
   "mimetype": "text/x-python",
   "name": "python",
   "nbconvert_exporter": "python",
   "pygments_lexer": "ipython3",
   "version": "3.8.5"
  }
 },
 "nbformat": 4,
 "nbformat_minor": 4
}
