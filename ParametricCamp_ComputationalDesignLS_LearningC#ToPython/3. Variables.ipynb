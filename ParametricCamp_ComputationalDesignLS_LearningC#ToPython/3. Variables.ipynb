{
 "cells": [
  {
   "cell_type": "code",
   "execution_count": 1,
   "metadata": {},
   "outputs": [
    {
     "name": "stdout",
     "output_type": "stream",
     "text": [
      "Hello World\n"
     ]
    }
   ],
   "source": [
    "#This is our first computer program\n",
    "\n",
    "#This line will print a message\n",
    "print(\"Hello World\")"
   ]
  },
  {
   "cell_type": "code",
   "execution_count": 3,
   "metadata": {},
   "outputs": [
    {
     "data": {
      "text/plain": [
       "' This is a \\nmultiline comment\\n'"
      ]
     },
     "execution_count": 3,
     "metadata": {},
     "output_type": "execute_result"
    }
   ],
   "source": [
    "#This is a single line comment \n",
    "#This is another single line comment\n",
    "\"\"\" This is a \n",
    "multiline comment\n",
    "\"\"\""
   ]
  },
  {
   "cell_type": "code",
   "execution_count": 5,
   "metadata": {},
   "outputs": [
    {
     "name": "stdout",
     "output_type": "stream",
     "text": [
      "Hello World\n",
      "Hello!\n"
     ]
    }
   ],
   "source": [
    "#Case Sensitivity\n",
    "a = \"Hello World\"\n",
    "A = \"Hello!\"\n",
    "\n",
    "print(a)\n",
    "print(A)"
   ]
  },
  {
   "cell_type": "code",
   "execution_count": 4,
   "metadata": {},
   "outputs": [
    {
     "name": "stdout",
     "output_type": "stream",
     "text": [
      "<class 'int'>\n",
      "<class 'float'>\n",
      "<class 'bool'>\n",
      "<class 'str'>\n",
      "<class 'bytes'>\n",
      "<class 'float'>\n",
      "<class 'int'>\n",
      "<class 'str'>\n"
     ]
    }
   ],
   "source": [
    "#Main primitive data types \n",
    "\n",
    "items = 10; \"\"\" Integer number without decimal part \"\"\"\n",
    "print(type(items))\n",
    "\n",
    "pi = 3.14159; \"\"\" Number with decimal part (and large precision) \"\"\"\n",
    "print(type(pi))\n",
    "\n",
    "isProfessor = True; \"\"\" true of false \"\"\"\n",
    "print(type(isProfessor))\n",
    "\n",
    "message = \"Hello World\"; \"\"\" Text \"\"\"\n",
    "print(type(message))\n",
    "\n",
    "gray = b\"byte 127\"; \"\"\" int from -128 to 127 \"\"\"\n",
    "print(type(gray))\n",
    "\n",
    "half = 0.5; \"\"\" number with decimal part (and little precision) \"\"\"\n",
    "print(type(half))\n",
    "\n",
    "atoms = 1223814723472323783; \"\"\" There is no long in Python 3 \"\"\"\n",
    "print(type(atoms))\n",
    "\n",
    "a = chr(97); \"\"\" Char \"\"\"\n",
    "print(type(a))"
   ]
  },
  {
   "cell_type": "code",
   "execution_count": 21,
   "metadata": {},
   "outputs": [
    {
     "name": "stdout",
     "output_type": "stream",
     "text": [
      "10\n",
      "50\n"
     ]
    }
   ],
   "source": [
    "#Declaration and Assigment \n",
    "a = 10\n",
    "print(a)\n",
    "\n",
    "a = 50 \n",
    "print(a)"
   ]
  },
  {
   "cell_type": "code",
   "execution_count": 25,
   "metadata": {},
   "outputs": [
    {
     "name": "stdout",
     "output_type": "stream",
     "text": [
      "5\n",
      "5\n",
      "12\n"
     ]
    }
   ],
   "source": [
    "#State-based Values\n",
    "# Declare two variables \n",
    "a = 2\n",
    "b = 3\n",
    "\n",
    "c = a + b\n",
    "print(c)\n",
    "\n",
    "b = 10\n",
    "print(c)\n",
    "\n",
    "c = a + b\n",
    "print(c)"
   ]
  },
  {
   "cell_type": "code",
   "execution_count": 50,
   "metadata": {},
   "outputs": [
    {
     "name": "stdout",
     "output_type": "stream",
     "text": [
      "234.2342\n",
      "1231231\n"
     ]
    }
   ],
   "source": [
    "# Conversions between data types \n",
    "a = 10\n",
    "#print(type(a))\n",
    "\n",
    "isProfessor = True\n",
    "#print(type(isProfessor))\n",
    "\n",
    "message = \"1231293\"\n",
    "#print(type(message))\n",
    "\n",
    "\n",
    "#Implicit conversions\n",
    "num = float(15)\n",
    "#print(type(num))\n",
    "\n",
    "letter = \"a\"\n",
    "#print(type(letter))\n",
    "\n",
    "#Casting \n",
    "b = int(23.999999)\n",
    "#print(b)\n",
    "\n",
    "#Explicit conversion\n",
    "c = int(bool(1))\n",
    "#print(c)\n",
    "\n",
    "numberFromFile = float(\"234.2342\")\n",
    "print(numberFromFile)\n",
    "\n",
    "numberAsString = str(\"1231231\")\n",
    "print(numberAsString)"
   ]
  },
  {
   "cell_type": "code",
   "execution_count": 58,
   "metadata": {},
   "outputs": [
    {
     "name": "stdout",
     "output_type": "stream",
     "text": [
      "println is written in PascalCase\n",
      "Just like ParametricCamp! :)\n"
     ]
    }
   ],
   "source": [
    "#Variables names are written in \"camelCase\"\n",
    "\n",
    "myName = \"secg\"\n",
    "\n",
    "#Depending on the variable name and scope\n",
    "#try to not be to short, too ambiguous or too explicit\n",
    "\n",
    "t = 25.5;               \"\"\" too short\"\"\"\n",
    "temp = 25.5;            \"\"\" confusing: \"temperature\" or \"temporal\" \"\"\"\n",
    "temperature = 25.5;     \"\"\" getting better \"\"\"\n",
    "roomTemp = 25.5;        \"\"\" better: explicit about room \"\"\"\n",
    "roomTemperature = 25.5; \"\"\" perhaps too long? \"\"\"\n",
    "\n",
    "#Funtions and classes are written in \"PascalCase\"\n",
    "print(\"println is written in PascalCase\")\n",
    "print(\"Just like ParametricCamp! :)\")"
   ]
  },
  {
   "cell_type": "code",
   "execution_count": null,
   "metadata": {},
   "outputs": [],
   "source": []
  }
 ],
 "metadata": {
  "kernelspec": {
   "display_name": "Python 3",
   "language": "python",
   "name": "python3"
  },
  "language_info": {
   "codemirror_mode": {
    "name": "ipython",
    "version": 3
   },
   "file_extension": ".py",
   "mimetype": "text/x-python",
   "name": "python",
   "nbconvert_exporter": "python",
   "pygments_lexer": "ipython3",
   "version": "3.7.6"
  }
 },
 "nbformat": 4,
 "nbformat_minor": 4
}
