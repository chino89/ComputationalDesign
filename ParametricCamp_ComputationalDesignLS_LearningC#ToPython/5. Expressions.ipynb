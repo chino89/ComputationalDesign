{
 "cells": [
  {
   "cell_type": "code",
   "execution_count": 13,
   "metadata": {},
   "outputs": [
    {
     "name": "stdout",
     "output_type": "stream",
     "text": [
      "10 is greater than 10? False\n",
      "10 is greater or equal than 10? True\n",
      "10 is smaller than 10? False\n",
      "10 is smaller or equal than 10? True\n",
      "10 is equal to 10? True\n",
      "10 is not equal to 10? False\n"
     ]
    }
   ],
   "source": [
    "#Expressions\n",
    "#Two values\n",
    "\n",
    "a = int(10)\n",
    "b = int(10)\n",
    "\n",
    "#We can also save these expressions as boolean variables\n",
    "isGreater = a>b\n",
    "\n",
    "#Examples of comparisons\n",
    "print('%s is greater than %s?'%(a,b), isGreater)\n",
    "print('%s is greater or equal than %s?'%(a,b), a>=b)\n",
    "print('%s is smaller than %s?'%(a,b), a<b)\n",
    "print('%s is smaller or equal than %s?'%(a,b), a<=b)\n",
    "print('%s is equal to %s?'%(a,b), a==b)\n",
    "print('%s is not equal to %s?'%(a,b), a!=b)"
   ]
  },
  {
   "cell_type": "code",
   "execution_count": 18,
   "metadata": {},
   "outputs": [
    {
     "name": "stdout",
     "output_type": "stream",
     "text": [
      "5 is equal to 5\n"
     ]
    }
   ],
   "source": [
    "#Conditional: If statements\n",
    "#Two values \n",
    "a = int(5)\n",
    "b = int(5)\n",
    "\n",
    "if (a>b):\n",
    "    print('%s is greater than %s'%(a,b))\n",
    "elif (a<b):\n",
    "    print('%s is smaller than %s'%(a,b))\n",
    "else:\n",
    "    print('%s is equal to %s'%(a,b))"
   ]
  },
  {
   "cell_type": "code",
   "execution_count": 27,
   "metadata": {},
   "outputs": [
    {
     "name": "stdout",
     "output_type": "stream",
     "text": [
      "True\n",
      "False\n",
      "False\n",
      "True\n"
     ]
    }
   ],
   "source": [
    "#Logical Operators\n",
    "#Two boolean values \n",
    "\n",
    "a = True\n",
    "b = False\n",
    "\n",
    "print(a)\n",
    "print(not(a))\n",
    "print(a and b)\n",
    "print(a or b)\n"
   ]
  },
  {
   "cell_type": "code",
   "execution_count": 39,
   "metadata": {},
   "outputs": [
    {
     "name": "stdout",
     "output_type": "stream",
     "text": [
      "2 is inside the [0, 5] interval\n"
     ]
    }
   ],
   "source": [
    "#Some values i want to compare \n",
    "value = 2\n",
    "min = 0\n",
    "max = 5\n",
    "\n",
    "if value > max or value < min:\n",
    "    print('%s is outside the [%s, %s] interval'%(value,min, max))\n",
    "\n",
    "elif value > min and value < max:\n",
    "    print('%s is inside the [%s, %s] interval'%(value, min, max))"
   ]
  },
  {
   "cell_type": "code",
   "execution_count": null,
   "metadata": {},
   "outputs": [],
   "source": []
  }
 ],
 "metadata": {
  "kernelspec": {
   "display_name": "Python 3",
   "language": "python",
   "name": "python3"
  },
  "language_info": {
   "codemirror_mode": {
    "name": "ipython",
    "version": 3
   },
   "file_extension": ".py",
   "mimetype": "text/x-python",
   "name": "python",
   "nbconvert_exporter": "python",
   "pygments_lexer": "ipython3",
   "version": "3.7.6"
  }
 },
 "nbformat": 4,
 "nbformat_minor": 4
}
