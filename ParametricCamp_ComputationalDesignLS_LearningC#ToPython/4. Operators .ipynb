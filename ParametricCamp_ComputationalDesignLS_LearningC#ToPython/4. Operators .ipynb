{
 "cells": [
  {
   "cell_type": "code",
   "execution_count": 10,
   "metadata": {},
   "outputs": [
    {
     "name": "stdout",
     "output_type": "stream",
     "text": [
      "10\n",
      "4\n",
      "21\n",
      "2\n",
      "2.3333333333333335\n"
     ]
    }
   ],
   "source": [
    "#Aritmethic operators\n",
    "# Declare two integer variables \n",
    "\n",
    "a = 7\n",
    "b = 3\n",
    "\n",
    "add = a + b\n",
    "sub = a - b\n",
    "mult = a * b \n",
    "divInt = int(a/b)\n",
    "divFloat = a/b\n",
    "\n",
    "print(add)\n",
    "print(sub)\n",
    "print(mult)\n",
    "print(divInt)\n",
    "print(divFloat)"
   ]
  },
  {
   "cell_type": "code",
   "execution_count": 11,
   "metadata": {},
   "outputs": [
    {
     "name": "stdout",
     "output_type": "stream",
     "text": [
      "2\n"
     ]
    }
   ],
   "source": [
    "#Modulo \n",
    "#Declare two numbers\n",
    "a = int(8)\n",
    "b = int(3)\n",
    "\n",
    "\"\"\"The modulo operator returns the remainder\n",
    "of the division operation\"\"\"\n",
    "\n",
    "mod = a % b\n",
    "print(mod)\n"
   ]
  },
  {
   "cell_type": "code",
   "execution_count": 25,
   "metadata": {},
   "outputs": [
    {
     "name": "stdout",
     "output_type": "stream",
     "text": [
      "7\n",
      "10\n",
      "14\n",
      "11\n",
      "22\n",
      "11.0\n",
      "12\n",
      "11\n"
     ]
    }
   ],
   "source": [
    "#Increment and Decrement Operators\n",
    "#Declare a variable \n",
    "a = 7\n",
    "print(a)\n",
    "\n",
    "#Increase its value by any value\n",
    "a = a + 3\n",
    "print(a)\n",
    "\n",
    "#Increase by \n",
    "a += 4\n",
    "print(a)\n",
    "\n",
    "#Decrease by \n",
    "a -= 3\n",
    "print(a)\n",
    "\n",
    "#multiply by \n",
    "a *= 2 \n",
    "print(a)\n",
    "\n",
    "#divide by \n",
    "a /= 2\n",
    "print(a)\n",
    "\n",
    "#increase by one\n",
    "a += 1\n",
    "print(int(a))\n",
    "\n",
    "#decrease by one\n",
    "a -= 1\n",
    "print(int(a))"
   ]
  },
  {
   "cell_type": "code",
   "execution_count": 30,
   "metadata": {
    "scrolled": true
   },
   "outputs": [
    {
     "name": "stdout",
     "output_type": "stream",
     "text": [
      "18.0\n",
      "18.0\n",
      "18.0\n",
      "20.0\n"
     ]
    }
   ],
   "source": [
    "#Operator Precedence \n",
    "#Executing a compound calculation\n",
    "\n",
    "calc = 5 * 3 + 9 / 3\n",
    "print(calc)\n",
    "\n",
    "print(5 * 3 + 9 / 3)\n",
    "print((5 * 3) + (9 / 3))\n",
    "print(5 * (3 + 9) / 3)"
   ]
  },
  {
   "cell_type": "code",
   "execution_count": 6,
   "metadata": {},
   "outputs": [
    {
     "name": "stdout",
     "output_type": "stream",
     "text": [
      "Hello Jose Luis!\n"
     ]
    }
   ],
   "source": [
    "#Operations with strings\n",
    "# Two string variables\n",
    "greet = \"Hello\"\n",
    "name = \"Jose Luis\"\n",
    "\n",
    "#String can be concatenated with the + symbol\n",
    "message = greet +\" \"+ name + \"!\"\n",
    "print(message)"
   ]
  },
  {
   "cell_type": "code",
   "execution_count": 34,
   "metadata": {},
   "outputs": [
    {
     "name": "stdout",
     "output_type": "stream",
     "text": [
      "10 + 5 = 15\n",
      "10 + 5 = 15 \n"
     ]
    }
   ],
   "source": [
    "#String Interpolation \n",
    "a = 10\n",
    "b = 5\n",
    "add = a + b\n",
    "\n",
    "print(a,\"+\",b, \"=\", add)\n",
    "print('%s + %s = %s '%(a, b, add))"
   ]
  },
  {
   "cell_type": "code",
   "execution_count": 60,
   "metadata": {},
   "outputs": [
    {
     "name": "stdout",
     "output_type": "stream",
     "text": [
      "6.283185307179586\n",
      "6.283185307179586\n",
      "2.5066282746310002\n",
      "248.05021344239853\n",
      "6\n",
      "-2.4492935982947064e-16\n",
      "1.0\n"
     ]
    }
   ],
   "source": [
    "#Aritmetic functions \n",
    "import math \n",
    "\n",
    "tau = 2 * math.pi \n",
    "sqrt = math.sqrt(tau)\n",
    "pow = math.pow(tau, 3)\n",
    "abs = math.fabs(tau)\n",
    "rnd = round(tau)\n",
    "sine = math.sin(tau)\n",
    "cosine = math.cos(tau)\n",
    "\n",
    "\n",
    "\n",
    "print(tau)\n",
    "print(math.tau)\n",
    "print(sqrt)\n",
    "print(pow)\n",
    "print(rnd)\n",
    "print(sine)\n",
    "print(cosine)"
   ]
  },
  {
   "cell_type": "code",
   "execution_count": null,
   "metadata": {},
   "outputs": [],
   "source": []
  }
 ],
 "metadata": {
  "kernelspec": {
   "display_name": "Python 3",
   "language": "python",
   "name": "python3"
  },
  "language_info": {
   "codemirror_mode": {
    "name": "ipython",
    "version": 3
   },
   "file_extension": ".py",
   "mimetype": "text/x-python",
   "name": "python",
   "nbconvert_exporter": "python",
   "pygments_lexer": "ipython3",
   "version": "3.7.6"
  }
 },
 "nbformat": 4,
 "nbformat_minor": 4
}
