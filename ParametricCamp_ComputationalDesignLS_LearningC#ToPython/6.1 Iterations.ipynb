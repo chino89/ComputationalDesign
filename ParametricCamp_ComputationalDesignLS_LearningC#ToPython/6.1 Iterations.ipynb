{
 "cells": [
  {
   "cell_type": "code",
   "execution_count": 3,
   "metadata": {},
   "outputs": [
    {
     "name": "stdout",
     "output_type": "stream",
     "text": [
      "0\n",
      "1\n",
      "2\n",
      "3\n",
      "4\n",
      "5\n",
      "6\n",
      "7\n",
      "8\n",
      "9\n"
     ]
    }
   ],
   "source": [
    "#While loop\n",
    "#Print first ten digits\n",
    "\n",
    "i = 0\n",
    "\n",
    "while (i < 10):\n",
    "    print(i)\n",
    "    i += 1"
   ]
  },
  {
   "cell_type": "code",
   "execution_count": 1,
   "metadata": {},
   "outputs": [
    {
     "name": "stdout",
     "output_type": "stream",
     "text": [
      "hi my friend\n",
      "hi my friend\n",
      "hi my friend\n",
      "hi my friend\n",
      "hi my friend\n",
      "hi my friend\n",
      "hi my friend\n",
      "hi my friend\n",
      "hi my friend\n",
      "hi my friend\n"
     ]
    }
   ],
   "source": [
    "#For loops\n",
    "for i in range (0,10):\n",
    "    print(\"Hi my friends\")"
   ]
  },
  {
   "cell_type": "code",
   "execution_count": 12,
   "metadata": {},
   "outputs": [
    {
     "name": "stdout",
     "output_type": "stream",
     "text": [
      "0 1 2 3 4 5 6 7 8 9 10 11 12 13 14 15 16 17 18 19 \n",
      "0 1 2 3 4 5 6 7 8 9 10 11 12 13 14 15 16 17 18 19 \n",
      "0 1 2 3 4 5 6 7 8 9 10 11 12 13 14 15 16 17 18 19 \n",
      "0 1 2 3 4 5 6 7 8 9 10 11 12 13 14 15 16 17 18 19 \n",
      "0 1 2 3 4 5 6 7 8 9 10 11 12 13 14 15 16 17 18 19 \n",
      "0 1 2 3 4 5 6 7 8 9 10 11 12 13 14 15 16 17 18 19 \n",
      "0 1 2 3 4 5 6 7 8 9 10 11 12 13 14 15 16 17 18 19 \n"
     ]
    }
   ],
   "source": [
    "#Nested Loops\n",
    "\n",
    "maxRows = 7\n",
    "maxColumns = 20\n",
    "\n",
    "for j in range (0,maxRows):\n",
    "    for i in range (0, maxColumns):\n",
    "        print(i,\"\", end=\"\")\n",
    "    print()\n",
    "        "
   ]
  },
  {
   "cell_type": "code",
   "execution_count": 16,
   "metadata": {},
   "outputs": [
    {
     "name": "stdout",
     "output_type": "stream",
     "text": [
      "The first square number 500 is 529\n"
     ]
    }
   ],
   "source": [
    "#Iteration Break Statements\n",
    "threshold = 500\n",
    "firstValue = 0\n",
    "firstSquare = 0\n",
    "\n",
    "for i in range(0,50,1):\n",
    "    if (i * i >= threshold):\n",
    "        firstValue = i\n",
    "        firstSquare = i*i\n",
    "        break\n",
    "\n",
    "print('The first square number %s is %s'%(threshold,firstSquare))\n",
    "    "
   ]
  },
  {
   "cell_type": "code",
   "execution_count": 37,
   "metadata": {},
   "outputs": [
    {
     "name": "stdout",
     "output_type": "stream",
     "text": [
      "Greater\n",
      "45\n"
     ]
    }
   ],
   "source": [
    "a = 10\n",
    "b = 5\n",
    "\n",
    "messagge = \"\"\n",
    "\n",
    "if a>b:\n",
    "    message = \"Greater\"\n",
    "else:\n",
    "    message = \"Not Greater\"\n",
    "\n",
    "print(message)\n",
    "\n",
    "sum = int(0)\n",
    "for i in range (0,10,1):\n",
    "    sum +=i\n",
    "print(sum)"
   ]
  },
  {
   "cell_type": "code",
   "execution_count": null,
   "metadata": {},
   "outputs": [],
   "source": []
  }
 ],
 "metadata": {
  "kernelspec": {
   "display_name": "Python 3",
   "language": "python",
   "name": "python3"
  },
  "language_info": {
   "codemirror_mode": {
    "name": "ipython",
    "version": 3
   },
   "file_extension": ".py",
   "mimetype": "text/x-python",
   "name": "python",
   "nbconvert_exporter": "python",
   "pygments_lexer": "ipython3",
   "version": "3.7.6"
  }
 },
 "nbformat": 4,
 "nbformat_minor": 4
}
