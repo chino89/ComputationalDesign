{
 "cells": [
  {
   "cell_type": "code",
   "execution_count": 8,
   "metadata": {},
   "outputs": [
    {
     "name": "stdout",
     "output_type": "stream",
     "text": [
      "23\n",
      "10\n",
      "20\n",
      "30\n",
      "40\n",
      "50\n",
      "60\n",
      "60\n",
      "60\n",
      "60\n",
      "60\n"
     ]
    }
   ],
   "source": [
    "#Lists a\n",
    "numbers = []\n",
    "\n",
    "numbers.append(0)\n",
    "numbers.append(10)\n",
    "numbers.append(20)\n",
    "numbers.append(30)\n",
    "numbers.append(40)\n",
    "numbers.append(50)\n",
    "numbers.append(60)\n",
    "numbers.append(60)\n",
    "numbers.append(60)\n",
    "numbers.append(60)\n",
    "numbers.append(60)\n",
    "\n",
    "numbers[0] = 23\n",
    "\n",
    "for i in range(0,len(numbers)):\n",
    "    print(numbers[i])\n",
    "\n",
    "#print(numbers[0])"
   ]
  },
  {
   "cell_type": "code",
   "execution_count": 15,
   "metadata": {},
   "outputs": [
    {
     "name": "stdout",
     "output_type": "stream",
     "text": [
      "0\n",
      "20\n",
      "40\n",
      "60\n",
      "80\n",
      "100\n",
      "120\n",
      "140\n",
      "160\n",
      "180\n",
      "200\n",
      "220\n",
      "240\n",
      "260\n",
      "280\n",
      "300\n",
      "320\n",
      "340\n",
      "360\n",
      "380\n",
      "400\n",
      "420\n",
      "440\n",
      "460\n",
      "480\n"
     ]
    }
   ],
   "source": [
    "#Lists b \n",
    "numbers = []\n",
    "elements = 25\n",
    "\n",
    "#Add elements\n",
    "for i in range(0,elements):\n",
    "    numbers.append(10*i)\n",
    "\n",
    "#Manually override values on a list\n",
    "#numbers[0] = 23\n",
    "for i in range(0, len(numbers)):\n",
    "    numbers[i]*=2\n",
    "\n",
    "#Print all elements\n",
    "for i in range(0, len(numbers)):\n",
    "    print(numbers[i])\n"
   ]
  },
  {
   "cell_type": "code",
   "execution_count": 35,
   "metadata": {},
   "outputs": [
    {
     "name": "stdout",
     "output_type": "stream",
     "text": [
      "0\n",
      "5\n",
      "10\n",
      "15\n",
      "20\n",
      "25\n",
      "30\n",
      "35\n",
      "40\n",
      "45\n"
     ]
    }
   ],
   "source": [
    "#Arrays of data \n",
    "capacity = 10\n",
    "numbers = [capacity]\n",
    "\n",
    "for i in range(0,capacity):\n",
    "    numbers = 5*i\n",
    "    print(numbers)"
   ]
  },
  {
   "cell_type": "code",
   "execution_count": null,
   "metadata": {},
   "outputs": [],
   "source": []
  }
 ],
 "metadata": {
  "kernelspec": {
   "display_name": "Python 3",
   "language": "python",
   "name": "python3"
  },
  "language_info": {
   "codemirror_mode": {
    "name": "ipython",
    "version": 3
   },
   "file_extension": ".py",
   "mimetype": "text/x-python",
   "name": "python",
   "nbconvert_exporter": "python",
   "pygments_lexer": "ipython3",
   "version": "3.7.6"
  }
 },
 "nbformat": 4,
 "nbformat_minor": 4
}
