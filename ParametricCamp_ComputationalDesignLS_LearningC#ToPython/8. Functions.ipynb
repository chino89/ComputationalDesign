{
 "cells": [
  {
   "cell_type": "code",
   "execution_count": 2,
   "metadata": {},
   "outputs": [
    {
     "name": "stdout",
     "output_type": "stream",
     "text": [
      "33\n"
     ]
    }
   ],
   "source": [
    "#Functions declaration a\n",
    "\n",
    "#Add two numbers\n",
    "a = 10\n",
    "b = 23\n",
    "sum = a + b\n",
    "print(sum)"
   ]
  },
  {
   "cell_type": "code",
   "execution_count": 7,
   "metadata": {},
   "outputs": [
    {
     "name": "stdout",
     "output_type": "stream",
     "text": [
      "33\n"
     ]
    }
   ],
   "source": [
    "#Functions declaration b\n",
    "\n",
    "#Add two numbers\n",
    "a = 10\n",
    "b = 23\n",
    "\n",
    "c = addition(a,b)\n",
    "print(c)\n",
    "\n",
    "def addition(valueA, valueB):\n",
    "    added = valueA + valueB\n",
    "    return added"
   ]
  },
  {
   "cell_type": "code",
   "execution_count": 13,
   "metadata": {},
   "outputs": [
    {
     "name": "stdout",
     "output_type": "stream",
     "text": [
      "Hello Jose Luis!\n"
     ]
    }
   ],
   "source": [
    "#Functions declaration c\n",
    "\n",
    "#Create greeting message\n",
    "def Greet(name):\n",
    "    msg = \"Hello \" +  name + \"!\"\n",
    "    return msg\n",
    "\n",
    "greetingMsg = Greet(\"Jose Luis\")\n",
    "print(greetingMsg)"
   ]
  },
  {
   "cell_type": "code",
   "execution_count": 25,
   "metadata": {},
   "outputs": [
    {
     "name": "stdout",
     "output_type": "stream",
     "text": [
      "12\n",
      "24\n",
      "30\n"
     ]
    }
   ],
   "source": [
    "#Funtion overloads\n",
    "\n",
    "a = 5\n",
    "b = 7\n",
    "c = 12\n",
    "nums = [2,4,6,8,10]\n",
    "\n",
    "\n",
    "def additionA(a,b):\n",
    "    sum = a + b\n",
    "    return sum\n",
    "\n",
    "def additionB(a,b,c):\n",
    "    sum = a + b + c\n",
    "    return sum\n",
    "\n",
    "def additionC(values):\n",
    "    sum = 0\n",
    "    for i in range(0, len(values)):\n",
    "        sum += values[i]\n",
    "    return sum\n",
    "\n",
    "\n",
    "sumAB = additionA(a,b)\n",
    "sumABC = additionB(a,b,c)\n",
    "sumArray = additionC(nums)\n",
    "\n",
    "print(sumAB)\n",
    "print(sumABC)\n",
    "print(sumArray)\n",
    "\n",
    "\n"
   ]
  },
  {
   "cell_type": "code",
   "execution_count": 32,
   "metadata": {},
   "outputs": [
    {
     "name": "stdout",
     "output_type": "stream",
     "text": [
      "6.283185307179586\n"
     ]
    }
   ],
   "source": [
    "#FuntionScope \n",
    "\n",
    "import math\n",
    "\n",
    "TAU = 2 * math.pi\n",
    "\n",
    "def CircleLength(radius):\n",
    "    len = TAU * radius\n",
    "    return len\n",
    "\n",
    "r = 1\n",
    "circleLen = CircleLength(r)\n",
    "print(circleLen)"
   ]
  },
  {
   "cell_type": "code",
   "execution_count": 35,
   "metadata": {},
   "outputs": [
    {
     "name": "stdout",
     "output_type": "stream",
     "text": [
      "Hello Jose Luis!\n",
      "Hi there!\n"
     ]
    }
   ],
   "source": [
    "#VoidFuntions\n",
    "def Greet(name):\n",
    "    msg = \"Hello \" + name + \"!\"\n",
    "    print(msg)\n",
    "\n",
    "def Log(string):\n",
    "    print(string)\n",
    "\n",
    "Greet(\"Jose Luis\")\n",
    "Log(\"Hi there!\")"
   ]
  },
  {
   "cell_type": "code",
   "execution_count": null,
   "metadata": {},
   "outputs": [],
   "source": []
  }
 ],
 "metadata": {
  "kernelspec": {
   "display_name": "Python 3",
   "language": "python",
   "name": "python3"
  },
  "language_info": {
   "codemirror_mode": {
    "name": "ipython",
    "version": 3
   },
   "file_extension": ".py",
   "mimetype": "text/x-python",
   "name": "python",
   "nbconvert_exporter": "python",
   "pygments_lexer": "ipython3",
   "version": "3.7.6"
  }
 },
 "nbformat": 4,
 "nbformat_minor": 4
}
