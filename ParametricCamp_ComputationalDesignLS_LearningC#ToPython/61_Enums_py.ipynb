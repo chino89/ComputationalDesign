{
 "cells": [
  {
   "cell_type": "code",
   "execution_count": 11,
   "metadata": {},
   "outputs": [],
   "source": [
    "#Import Enum\n",
    "from enum import Enum"
   ]
  },
  {
   "cell_type": "code",
   "execution_count": 12,
   "metadata": {},
   "outputs": [],
   "source": [
    "#Create status enum to define the different types of a status a package might be under\n",
    "class Status(Enum):\n",
    "    InStore = 0\n",
    "    InTransit = 1\n",
    "    OutForDelivery = 2\n",
    "    Delivered = 3"
   ]
  },
  {
   "cell_type": "code",
   "execution_count": 13,
   "metadata": {},
   "outputs": [
    {
     "name": "stdout",
     "output_type": "stream",
     "text": [
      "Package status is:  Status.Delivered\n"
     ]
    }
   ],
   "source": [
    "#This would be a package tracking program...\n",
    "#Define a variable of the enum type Status\n",
    "\n",
    "packageStatus = Status.Delivered\n",
    "print(\"Package status is: \", packageStatus)"
   ]
  },
  {
   "cell_type": "code",
   "execution_count": 14,
   "metadata": {},
   "outputs": [
    {
     "name": "stdout",
     "output_type": "stream",
     "text": [
      "Package is delivered\n"
     ]
    }
   ],
   "source": [
    "#Use the enum values for direct comaprisions\n",
    "if packageStatus == Status.InStore:\n",
    "    print(\"Package hasn't leave facilities\")\n",
    "\n",
    "elif packageStatus == Status.InTransit:\n",
    "    print(\"Package is on its way\")\n",
    "\n",
    "elif packageStatus == Status.OutForDelivery:\n",
    "    print(\"You will receive your package VERY soon\")\n",
    "\n",
    "elif packageStatus == Status.Delivered:\n",
    "    print(\"Package is delivered\")"
   ]
  },
  {
   "cell_type": "code",
   "execution_count": null,
   "metadata": {},
   "outputs": [],
   "source": []
  }
 ],
 "metadata": {
  "kernelspec": {
   "display_name": "Python 3",
   "language": "python",
   "name": "python3"
  },
  "language_info": {
   "codemirror_mode": {
    "name": "ipython",
    "version": 3
   },
   "file_extension": ".py",
   "mimetype": "text/x-python",
   "name": "python",
   "nbconvert_exporter": "python",
   "pygments_lexer": "ipython3",
   "version": "3.8.5"
  }
 },
 "nbformat": 4,
 "nbformat_minor": 4
}
