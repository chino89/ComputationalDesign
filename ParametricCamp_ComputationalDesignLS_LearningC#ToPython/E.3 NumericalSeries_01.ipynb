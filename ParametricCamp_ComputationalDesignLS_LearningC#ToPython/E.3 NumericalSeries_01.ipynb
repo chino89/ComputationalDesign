{
 "cells": [
  {
   "cell_type": "code",
   "execution_count": 1,
   "metadata": {},
   "outputs": [
    {
     "name": "stdout",
     "output_type": "stream",
     "text": [
      "First ten numbers:\n",
      "0\n",
      "1\n",
      "2\n",
      "3\n",
      "4\n",
      "5\n",
      "6\n",
      "7\n",
      "8\n",
      "9\n"
     ]
    }
   ],
   "source": [
    "#Examples of numerical series\n",
    "print(\"First ten numbers:\")\n",
    "for i in range (0,10):\n",
    "    print(i)"
   ]
  },
  {
   "cell_type": "code",
   "execution_count": 4,
   "metadata": {},
   "outputs": [
    {
     "name": "stdout",
     "output_type": "stream",
     "text": [
      "First ten negative numbers:\n",
      "0\n",
      "-1\n",
      "-2\n",
      "-3\n",
      "-4\n",
      "-5\n",
      "-6\n",
      "-7\n",
      "-8\n",
      "-9\n"
     ]
    }
   ],
   "source": [
    "print(\"First ten negative numbers:\")\n",
    "for i in range (0,-10,-1):\n",
    "    print(i)"
   ]
  },
  {
   "cell_type": "code",
   "execution_count": 5,
   "metadata": {},
   "outputs": [
    {
     "name": "stdout",
     "output_type": "stream",
     "text": [
      "First ten square numbers:\n",
      "0\n",
      "1\n",
      "4\n",
      "9\n",
      "16\n",
      "25\n",
      "36\n",
      "49\n",
      "64\n",
      "81\n"
     ]
    }
   ],
   "source": [
    "print(\"First ten square numbers:\")\n",
    "for i in range(0,10):\n",
    "    print(i*i)"
   ]
  },
  {
   "cell_type": "code",
   "execution_count": 6,
   "metadata": {},
   "outputs": [
    {
     "name": "stdout",
     "output_type": "stream",
     "text": [
      "Fist ten even numbers:\n",
      "0\n",
      "2\n",
      "4\n",
      "6\n",
      "8\n",
      "10\n",
      "12\n",
      "14\n",
      "16\n",
      "18\n"
     ]
    }
   ],
   "source": [
    "print(\"Fist ten even numbers:\")\n",
    "for i in range(0,20,2):\n",
    "    print(i)"
   ]
  },
  {
   "cell_type": "code",
   "execution_count": 8,
   "metadata": {},
   "outputs": [
    {
     "name": "stdout",
     "output_type": "stream",
     "text": [
      "First ten even numbers:\n",
      "0\n",
      "2\n",
      "4\n",
      "6\n",
      "8\n",
      "10\n",
      "12\n",
      "14\n",
      "16\n",
      "18\n"
     ]
    }
   ],
   "source": [
    "print(\"First ten even numbers:\")\n",
    "for i in range(0,10):\n",
    "    print(2*i)"
   ]
  },
  {
   "cell_type": "code",
   "execution_count": 9,
   "metadata": {},
   "outputs": [
    {
     "name": "stdout",
     "output_type": "stream",
     "text": [
      "First ten even numbers:\n",
      "0\n",
      "2\n",
      "4\n",
      "6\n",
      "8\n",
      "10\n",
      "12\n",
      "14\n",
      "16\n",
      "18\n"
     ]
    }
   ],
   "source": [
    "print(\"First ten even numbers:\")\n",
    "found = 0\n",
    "for i in range(0,100):\n",
    "    if i % 2 == 0:\n",
    "        print(i)\n",
    "        found += 1\n",
    "        \n",
    "        if found >= 10:\n",
    "            break"
   ]
  },
  {
   "cell_type": "code",
   "execution_count": 12,
   "metadata": {},
   "outputs": [
    {
     "name": "stdout",
     "output_type": "stream",
     "text": [
      "First ten odd numbers:\n",
      "1\n",
      "3\n",
      "5\n",
      "7\n",
      "9\n",
      "11\n",
      "13\n",
      "15\n",
      "17\n",
      "19\n"
     ]
    }
   ],
   "source": [
    "print(\"First ten odd numbers:\")\n",
    "for i in range(1,20,2):\n",
    "    print(i)"
   ]
  },
  {
   "cell_type": "code",
   "execution_count": 13,
   "metadata": {
    "scrolled": true
   },
   "outputs": [
    {
     "name": "stdout",
     "output_type": "stream",
     "text": [
      "First ten odd numbers:\n",
      "1\n",
      "3\n",
      "5\n",
      "7\n",
      "9\n",
      "11\n",
      "13\n",
      "15\n",
      "17\n",
      "19\n"
     ]
    }
   ],
   "source": [
    "print(\"First ten odd numbers:\")\n",
    "for i in range(0,10):\n",
    "    print(2*i+1)"
   ]
  },
  {
   "cell_type": "code",
   "execution_count": 14,
   "metadata": {},
   "outputs": [
    {
     "name": "stdout",
     "output_type": "stream",
     "text": [
      "1\n",
      "3\n",
      "5\n",
      "7\n",
      "9\n",
      "11\n",
      "13\n",
      "15\n",
      "17\n",
      "19\n"
     ]
    }
   ],
   "source": [
    "found = 0\n",
    "for i in range(0,100):\n",
    "    if i % 2 == 1:\n",
    "        print(i)\n",
    "        found += 1\n",
    "        if found >= 10:\n",
    "            break\n"
   ]
  },
  {
   "cell_type": "code",
   "execution_count": 25,
   "metadata": {},
   "outputs": [
    {
     "name": "stdout",
     "output_type": "stream",
     "text": [
      "The multiplication table for number 23453\n",
      "multValue x i = 0 \n",
      "multValue x i = 23453 \n",
      "multValue x i = 46906 \n",
      "multValue x i = 70359 \n",
      "multValue x i = 93812 \n",
      "multValue x i = 117265 \n",
      "multValue x i = 140718 \n",
      "multValue x i = 164171 \n",
      "multValue x i = 187624 \n",
      "multValue x i = 211077 \n"
     ]
    }
   ],
   "source": [
    "multValue = 23453\n",
    "print('The multiplication table for number %s'%(multValue))\n",
    "for i in range(0,10):\n",
    "    print('multValue x i = %s '%(multValue * i))"
   ]
  },
  {
   "cell_type": "code",
   "execution_count": 160,
   "metadata": {},
   "outputs": [
    {
     "name": "stdout",
     "output_type": "stream",
     "text": [
      "An ascending geometric series:\n",
      "1.5\n",
      "2.25\n",
      "3.375\n",
      "5.0625\n",
      "7.59375\n",
      "11.390625\n",
      "17.0859375\n",
      "25.62890625\n",
      "38.443359375\n",
      "57.6650390625\n"
     ]
    }
   ],
   "source": [
    "print(\"An ascending geometric series:\")\n",
    "n = 10\n",
    "a = 1\n",
    "r = 1.50\n",
    "\n",
    "prev_term = a\n",
    "sum_gp = a\n",
    "for i in range(n):\n",
    "    ith_term = r * prev_term\n",
    "    print(\"{}\".format(ith_term))\n",
    "    prev_term = ith_term\n",
    "    #print(ith_term)\n",
    "    sum_gp = sum_gp +ith_term\n",
    "#print(sum_gp)\n",
    "\n",
    "\n",
    "#Reference https://www.codespeedy.com/sum-of-geometric-progression-series-in-python/"
   ]
  },
  {
   "cell_type": "code",
   "execution_count": 117,
   "metadata": {},
   "outputs": [
    {
     "name": "stdout",
     "output_type": "stream",
     "text": [
      "0 :A\n",
      "1 :AB\n",
      "2 :ABC\n",
      "3 :ABCD\n",
      "4 :ABCDE\n",
      "5 :ABCDEF\n",
      "6 :ABCDEFG\n",
      "7 :ABCDEFGH\n",
      "8 :ABCDEFGHI\n",
      "9 :ABCDEFGHIJ\n",
      "10 :ABCDEFGHIJK\n",
      "11 :ABCDEFGHIJKL\n",
      "12 :ABCDEFGHIJKLM\n",
      "13 :ABCDEFGHIJKLMN\n",
      "14 :ABCDEFGHIJKLMNO\n",
      "15 :ABCDEFGHIJKLMNOP\n",
      "16 :ABCDEFGHIJKLMNOPQ\n",
      "17 :ABCDEFGHIJKLMNOPQR\n",
      "18 :ABCDEFGHIJKLMNOPQRS\n",
      "19 :ABCDEFGHIJKLMNOPQRST\n",
      "20 :ABCDEFGHIJKLMNOPQRSTU\n",
      "21 :ABCDEFGHIJKLMNOPQRSTUV\n",
      "22 :ABCDEFGHIJKLMNOPQRSTUVW\n",
      "23 :ABCDEFGHIJKLMNOPQRSTUVWX\n",
      "24 :ABCDEFGHIJKLMNOPQRSTUVWXY\n",
      "25 :ABCDEFGHIJKLMNOPQRSTUVWXYZ\n"
     ]
    }
   ],
   "source": [
    "alphabet = \"\"\n",
    "alphabetLowCase = \"\"\n",
    "for i in range(0,26):\n",
    "    alphabet += chr(65+i)\n",
    "    alphabetLowCase += chr(97+i)\n",
    "    print(i,':{}'.format(alphabet))"
   ]
  },
  {
   "cell_type": "code",
   "execution_count": 121,
   "metadata": {},
   "outputs": [
    {
     "name": "stdout",
     "output_type": "stream",
     "text": [
      "The addition of the first ten numbers\n",
      "45\n"
     ]
    }
   ],
   "source": [
    "print(\"The addition of the first ten numbers\")\n",
    "massAddition = 0;\n",
    "\n",
    "for i in range(0,10):\n",
    "    massAddition += i\n",
    "print(massAddition)"
   ]
  },
  {
   "cell_type": "code",
   "execution_count": 123,
   "metadata": {},
   "outputs": [
    {
     "name": "stdout",
     "output_type": "stream",
     "text": [
      "Fibonacci sequence\n",
      "1\n",
      "1\n",
      "2\n",
      "3\n",
      "5\n",
      "8\n",
      "13\n",
      "21\n",
      "34\n",
      "55\n",
      "89\n",
      "144\n"
     ]
    }
   ],
   "source": [
    "print(\"Fibonacci sequence\")\n",
    "prev1 = 1\n",
    "prev2 = 1\n",
    "print(prev1)\n",
    "print(prev2)\n",
    "\n",
    "for i in range(0,10):\n",
    "    sum = prev1 + prev2\n",
    "    print(sum)\n",
    "    \n",
    "    prev1 = prev2\n",
    "    prev2 = sum"
   ]
  },
  {
   "cell_type": "code",
   "execution_count": 155,
   "metadata": {},
   "outputs": [
    {
     "name": "stdout",
     "output_type": "stream",
     "text": [
      "Prime numbers\n",
      "2\n",
      "3\n",
      "5\n",
      "7\n",
      "11\n",
      "13\n",
      "17\n",
      "19\n",
      "23\n",
      "29\n",
      "31\n",
      "37\n",
      "41\n",
      "43\n",
      "47\n",
      "53\n",
      "59\n",
      "61\n",
      "67\n",
      "71\n",
      "73\n",
      "79\n",
      "83\n",
      "89\n",
      "97\n"
     ]
    }
   ],
   "source": [
    "print(\"Prime numbers\")\n",
    "for i in range(2,100):\n",
    "    isPrime = True\n",
    "    for j in range(2,i):\n",
    "        if i % j == 0:\n",
    "            isPrime = False\n",
    "            break\n",
    "    if isPrime == True:\n",
    "        print(i)\n"
   ]
  },
  {
   "cell_type": "code",
   "execution_count": null,
   "metadata": {},
   "outputs": [],
   "source": []
  },
  {
   "cell_type": "code",
   "execution_count": null,
   "metadata": {},
   "outputs": [],
   "source": []
  }
 ],
 "metadata": {
  "kernelspec": {
   "display_name": "Python 3",
   "language": "python",
   "name": "python3"
  },
  "language_info": {
   "codemirror_mode": {
    "name": "ipython",
    "version": 3
   },
   "file_extension": ".py",
   "mimetype": "text/x-python",
   "name": "python",
   "nbconvert_exporter": "python",
   "pygments_lexer": "ipython3",
   "version": "3.7.6"
  }
 },
 "nbformat": 4,
 "nbformat_minor": 4
}
