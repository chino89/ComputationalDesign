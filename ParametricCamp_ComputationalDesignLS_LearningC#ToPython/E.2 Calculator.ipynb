{
 "cells": [
  {
   "cell_type": "code",
   "execution_count": 12,
   "metadata": {},
   "outputs": [
    {
     "name": "stdout",
     "output_type": "stream",
     "text": [
      "Enter first value:\n",
      "a\n",
      "Enter numerical value\n",
      "Enter first value:\n",
      "f\n",
      "Enter numerical value\n",
      "Enter first value:\n",
      "d\n",
      "Enter numerical value\n",
      "Enter first value:\n",
      "a\n",
      "Enter numerical value\n",
      "Enter first value:\n",
      "d\n",
      "Enter numerical value\n",
      "Enter first value:\n",
      "5.4\n",
      "Enter second value:\n",
      "6.5\n",
      "<class 'float'>\n",
      "<class 'float'>\n",
      "HERE ARE SOME CALCULATIONS:\n",
      "5.4 + 6.5 = 11.9\n",
      "5.4 - 6.5 = -1.0999999999999996\n",
      "5.4 * 6.5 = 35.1\n",
      "5.4 / 6.5 = 0.8307692307692308\n",
      "5.4 % 6.5 = 5.4\n",
      "Square root of 5.4 = 2.32379000772445\n"
     ]
    }
   ],
   "source": [
    "import math\n",
    "\n",
    "while True:\n",
    "    try:\n",
    "        print(\"Enter first value:\")\n",
    "        val1str = float(input())\n",
    "        print(\"Enter second value:\")\n",
    "        val2str = float(input())\n",
    "        break\n",
    "    except:\n",
    "        print(\"Enter numerical value\")\n",
    "val1 = val1str\n",
    "val2 = val2str\n",
    "\n",
    "print(type(val1))\n",
    "print(type(val2))\n",
    "\n",
    "print(\"HERE ARE SOME CALCULATIONS:\")\n",
    "\n",
    "#Displaying a bunch of computation with these values\n",
    "add = val1 + val2\n",
    "print(val1, \"+\" , val2, \"=\" , add)\n",
    "\n",
    "sub = val1 - val2\n",
    "print(val1, \"-\" , val2, \"=\" , sub)\n",
    "\n",
    "mult = val1 * val2\n",
    "print(val1, \"*\" , val2, \"=\" , mult)\n",
    "\n",
    "div = val1 / val2\n",
    "print(val1, \"/\" , val2, \"=\" , div)\n",
    "\n",
    "mod = val1 % val2\n",
    "print(val1, \"%\" , val2, \"=\" , mod)\n",
    "\n",
    "sqrt = math.sqrt(val1)\n",
    "print(\"Square root of\",val1, \"=\" , sqrt)"
   ]
  },
  {
   "cell_type": "code",
   "execution_count": null,
   "metadata": {},
   "outputs": [],
   "source": []
  }
 ],
 "metadata": {
  "kernelspec": {
   "display_name": "Python 3",
   "language": "python",
   "name": "python3"
  },
  "language_info": {
   "codemirror_mode": {
    "name": "ipython",
    "version": 3
   },
   "file_extension": ".py",
   "mimetype": "text/x-python",
   "name": "python",
   "nbconvert_exporter": "python",
   "pygments_lexer": "ipython3",
   "version": "3.7.6"
  }
 },
 "nbformat": 4,
 "nbformat_minor": 4
}
